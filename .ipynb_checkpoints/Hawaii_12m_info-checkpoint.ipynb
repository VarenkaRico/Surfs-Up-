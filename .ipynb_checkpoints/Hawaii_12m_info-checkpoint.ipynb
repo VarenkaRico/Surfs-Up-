{
 "cells": [
  {
   "cell_type": "code",
   "execution_count": 1,
   "metadata": {},
   "outputs": [],
   "source": [
    "import pandas as pd\n",
    "import matplotlib.pyplot as plt\n",
    "\n",
    "import sqlalchemy\n",
    "from sqlalchemy.orm import Session\n",
    "from sqlalchemy.ext.automap import automap_base\n",
    "from sqlalchemy import create_engine, inspect, func\n",
    "\n",
    "from flask import Flask,jsonify\n",
    "\n",
    "from datetime import datetime as dt"
   ]
  },
  {
   "cell_type": "code",
   "execution_count": 2,
   "metadata": {},
   "outputs": [],
   "source": [
    "hawaii_input=\"hawaii.sqlite\""
   ]
  },
  {
   "cell_type": "markdown",
   "metadata": {},
   "source": [
    "# INSPECTION"
   ]
  },
  {
   "cell_type": "code",
   "execution_count": 3,
   "metadata": {},
   "outputs": [
    {
     "data": {
      "text/plain": [
       "['measurement', 'station']"
      ]
     },
     "execution_count": 3,
     "metadata": {},
     "output_type": "execute_result"
    }
   ],
   "source": [
    "Base=automap_base()\n",
    "engine=create_engine(f\"sqlite:///{hawaii_input}\")\n",
    "Base.prepare(engine,reflect=True)\n",
    "Base.classes.keys()"
   ]
  },
  {
   "cell_type": "code",
   "execution_count": 4,
   "metadata": {},
   "outputs": [],
   "source": [
    "Mmt=Base.classes.measurement\n",
    "Stn=Base.classes.station\n",
    "session=Session(engine)"
   ]
  },
  {
   "cell_type": "markdown",
   "metadata": {},
   "source": [
    "## Measurement class"
   ]
  },
  {
   "cell_type": "code",
   "execution_count": 5,
   "metadata": {},
   "outputs": [
    {
     "name": "stdout",
     "output_type": "stream",
     "text": [
      "id INTEGER\n",
      "station TEXT\n",
      "date TEXT\n",
      "prcp FLOAT\n",
      "tobs FLOAT\n"
     ]
    }
   ],
   "source": [
    "inspector=inspect(engine)\n",
    "inspector.get_table_names()\n",
    "columns=inspector.get_columns(\"measurement\")\n",
    "for c in columns:\n",
    "    print(c[\"name\"],c[\"type\"])"
   ]
  },
  {
   "cell_type": "code",
   "execution_count": 6,
   "metadata": {},
   "outputs": [
    {
     "data": {
      "text/plain": [
       "[(2724, 'USC00519397', '2017-08-23', 0.0, 81.0),\n",
       " (7635, 'USC00514830', '2017-08-23', 0.0, 82.0),\n",
       " (12187, 'USC00519523', '2017-08-23', 0.08, 82.0),\n",
       " (19550, 'USC00516128', '2017-08-23', 0.45, 76.0),\n",
       " (2723, 'USC00519397', '2017-08-22', 0.0, 82.0)]"
      ]
     },
     "execution_count": 6,
     "metadata": {},
     "output_type": "execute_result"
    }
   ],
   "source": [
    "engine.execute(\"SELECT * FROM measurement ORDER BY date DESC LIMIT 5\").fetchall()"
   ]
  },
  {
   "cell_type": "code",
   "execution_count": 7,
   "metadata": {},
   "outputs": [
    {
     "data": {
      "text/plain": [
       "[(1, 'USC00519397', '2010-01-01', 0.08, 65.0),\n",
       " (2725, 'USC00513117', '2010-01-01', 0.28, 67.0),\n",
       " (9008, 'USC00518838', '2010-01-01', 0.21, 72.0),\n",
       " (9519, 'USC00519523', '2010-01-01', 0.15, 75.0),\n",
       " (12188, 'USC00519281', '2010-01-01', 0.15, 70.0)]"
      ]
     },
     "execution_count": 7,
     "metadata": {},
     "output_type": "execute_result"
    }
   ],
   "source": [
    "engine.execute(\"SELECT * FROM measurement ORDER BY date ASC LIMIT 5\").fetchall()"
   ]
  },
  {
   "cell_type": "markdown",
   "metadata": {},
   "source": [
    "### Date Range"
   ]
  },
  {
   "cell_type": "code",
   "execution_count": 8,
   "metadata": {},
   "outputs": [
    {
     "data": {
      "text/plain": [
       "[(19550)]"
      ]
     },
     "execution_count": 8,
     "metadata": {},
     "output_type": "execute_result"
    }
   ],
   "source": [
    "#Total Dates\n",
    "session.query(func.count(Mmt.date)).all()"
   ]
  },
  {
   "cell_type": "code",
   "execution_count": 9,
   "metadata": {},
   "outputs": [
    {
     "data": {
      "text/plain": [
       "('2010-01-01')"
      ]
     },
     "execution_count": 9,
     "metadata": {},
     "output_type": "execute_result"
    }
   ],
   "source": [
    "#First Date\n",
    "session.query(Mmt.date).order_by(Mmt.date).first()"
   ]
  },
  {
   "cell_type": "code",
   "execution_count": 10,
   "metadata": {},
   "outputs": [
    {
     "data": {
      "text/plain": [
       "('2017-08-23')"
      ]
     },
     "execution_count": 10,
     "metadata": {},
     "output_type": "execute_result"
    }
   ],
   "source": [
    "#Last Date\n",
    "session.query(Mmt.date).order_by(Mmt.date.desc()).first()"
   ]
  },
  {
   "cell_type": "markdown",
   "metadata": {},
   "source": [
    "## Station class"
   ]
  },
  {
   "cell_type": "code",
   "execution_count": 11,
   "metadata": {},
   "outputs": [
    {
     "name": "stdout",
     "output_type": "stream",
     "text": [
      "id INTEGER\n",
      "station TEXT\n",
      "name TEXT\n",
      "latitude FLOAT\n",
      "longitude FLOAT\n",
      "elevation FLOAT\n"
     ]
    }
   ],
   "source": [
    "inspector=inspect(engine)\n",
    "inspector.get_table_names()\n",
    "columns=inspector.get_columns(\"station\")\n",
    "for c in columns:\n",
    "    print(c[\"name\"],c[\"type\"])"
   ]
  },
  {
   "cell_type": "code",
   "execution_count": 12,
   "metadata": {},
   "outputs": [
    {
     "data": {
      "text/plain": [
       "[(1, 'USC00519397', 'WAIKIKI 717.2, HI US', 21.2716, -157.8168, 3.0),\n",
       " (2, 'USC00513117', 'KANEOHE 838.1, HI US', 21.4234, -157.8015, 14.6),\n",
       " (3, 'USC00514830', 'KUALOA RANCH HEADQUARTERS 886.9, HI US', 21.5213, -157.8374, 7.0),\n",
       " (4, 'USC00517948', 'PEARL CITY, HI US', 21.3934, -157.9751, 11.9),\n",
       " (5, 'USC00518838', 'UPPER WAHIAWA 874.3, HI US', 21.4992, -158.0111, 306.6),\n",
       " (6, 'USC00519523', 'WAIMANALO EXPERIMENTAL FARM, HI US', 21.33556, -157.71139, 19.5),\n",
       " (7, 'USC00519281', 'WAIHEE 837.5, HI US', 21.45167, -157.84888999999998, 32.9),\n",
       " (8, 'USC00511918', 'HONOLULU OBSERVATORY 702.2, HI US', 21.3152, -157.9992, 0.9),\n",
       " (9, 'USC00516128', 'MANOA LYON ARBO 785.2, HI US', 21.3331, -157.8025, 152.4)]"
      ]
     },
     "execution_count": 12,
     "metadata": {},
     "output_type": "execute_result"
    }
   ],
   "source": [
    "engine.execute(\"SELECT * FROM station\").fetchall()"
   ]
  },
  {
   "cell_type": "markdown",
   "metadata": {},
   "source": [
    "# EXPLORATORY CLIMATE ANALYSIS"
   ]
  },
  {
   "cell_type": "markdown",
   "metadata": {},
   "source": [
    "## Last 12 months precipitation "
   ]
  },
  {
   "cell_type": "code",
   "execution_count": 13,
   "metadata": {},
   "outputs": [
    {
     "data": {
      "text/plain": [
       "('2017-08-23')"
      ]
     },
     "execution_count": 13,
     "metadata": {},
     "output_type": "execute_result"
    }
   ],
   "source": [
    "Last_day=session.query(Mmt.date).order_by(Mmt.date.desc()).first()\n",
    "Last_day"
   ]
  },
  {
   "cell_type": "code",
   "execution_count": 14,
   "metadata": {},
   "outputs": [
    {
     "data": {
      "text/plain": [
       "[(2724, 'USC00519397', '2017-08-23', 0.0),\n",
       " (2723, 'USC00519397', '2017-08-22', 0.0),\n",
       " (2722, 'USC00519397', '2017-08-21', 0.0),\n",
       " (2721, 'USC00519397', '2017-08-20', 0.0),\n",
       " (2720, 'USC00519397', '2017-08-19', 0.0),\n",
       " (2719, 'USC00519397', '2017-08-18', 0.0),\n",
       " (7630, 'USC00514830', '2017-08-17', 0.0),\n",
       " (7629, 'USC00514830', '2017-08-16', 0.0),\n",
       " (2718, 'USC00519397', '2017-08-15', 0.02),\n",
       " (2717, 'USC00519397', '2017-08-14', 0.0),\n",
       " (2716, 'USC00519397', '2017-08-13', 0.0),\n",
       " (2715, 'USC00519397', '2017-08-12', 0.0),\n",
       " (2714, 'USC00519397', '2017-08-11', 0.0),\n",
       " (2713, 'USC00519397', '2017-08-10', 0.0),\n",
       " (2712, 'USC00519397', '2017-08-09', 0.0),\n",
       " (2711, 'USC00519397', '2017-08-08', 0.0),\n",
       " (2710, 'USC00519397', '2017-08-07', 0.0),\n",
       " (2709, 'USC00519397', '2017-08-06', 0.0),\n",
       " (2708, 'USC00519397', '2017-08-05', 0.0),\n",
       " (2707, 'USC00519397', '2017-08-04', 0.02),\n",
       " (2706, 'USC00519397', '2017-08-03', 0.0),\n",
       " (2705, 'USC00519397', '2017-08-02', 0.0),\n",
       " (2704, 'USC00519397', '2017-08-01', 0.02),\n",
       " (2703, 'USC00519397', '2017-07-31', 0.0),\n",
       " (2702, 'USC00519397', '2017-07-30', 0.0),\n",
       " (2701, 'USC00519397', '2017-07-29', 0.0),\n",
       " (2700, 'USC00519397', '2017-07-28', 0.0),\n",
       " (2699, 'USC00519397', '2017-07-27', 0.0),\n",
       " (2698, 'USC00519397', '2017-07-26', 0.0),\n",
       " (2697, 'USC00519397', '2017-07-25', 0.0),\n",
       " (2696, 'USC00519397', '2017-07-24', 0.05),\n",
       " (2695, 'USC00519397', '2017-07-23', 0.0),\n",
       " (2694, 'USC00519397', '2017-07-22', 0.03),\n",
       " (2693, 'USC00519397', '2017-07-21', 0.0),\n",
       " (2692, 'USC00519397', '2017-07-20', 0.03),\n",
       " (5421, 'USC00513117', '2017-07-19', 0.0),\n",
       " (2691, 'USC00519397', '2017-07-18', 0.05),\n",
       " (2690, 'USC00519397', '2017-07-17', 0.03),\n",
       " (2689, 'USC00519397', '2017-07-16', 0.02),\n",
       " (2688, 'USC00519397', '2017-07-15', 0.0),\n",
       " (2687, 'USC00519397', '2017-07-14', 0.02),\n",
       " (2686, 'USC00519397', '2017-07-13', 0.07),\n",
       " (2685, 'USC00519397', '2017-07-12', 0.0),\n",
       " (2684, 'USC00519397', '2017-07-11', 0.0),\n",
       " (2683, 'USC00519397', '2017-07-10', 0.0),\n",
       " (2682, 'USC00519397', '2017-07-09', 0.0),\n",
       " (2681, 'USC00519397', '2017-07-08', 0.0),\n",
       " (2680, 'USC00519397', '2017-07-07', 0.0),\n",
       " (2679, 'USC00519397', '2017-07-06', 0.0),\n",
       " (2678, 'USC00519397', '2017-07-05', 0.0),\n",
       " (2677, 'USC00519397', '2017-07-04', 0.04),\n",
       " (2676, 'USC00519397', '2017-07-03', 0.04),\n",
       " (2675, 'USC00519397', '2017-07-02', 0.02),\n",
       " (2674, 'USC00519397', '2017-07-01', 0.02),\n",
       " (2673, 'USC00519397', '2017-06-30', 0.08),\n",
       " (2672, 'USC00519397', '2017-06-29', 0.0),\n",
       " (2671, 'USC00519397', '2017-06-28', 0.0),\n",
       " (2670, 'USC00519397', '2017-06-27', 0.0),\n",
       " (2669, 'USC00519397', '2017-06-26', 0.0),\n",
       " (2668, 'USC00519397', '2017-06-25', 0.0),\n",
       " (2667, 'USC00519397', '2017-06-24', 0.06),\n",
       " (2666, 'USC00519397', '2017-06-23', 0.0),\n",
       " (2665, 'USC00519397', '2017-06-22', 0.0),\n",
       " (2664, 'USC00519397', '2017-06-21', 0.0),\n",
       " (2663, 'USC00519397', '2017-06-20', 0.02),\n",
       " (2662, 'USC00519397', '2017-06-19', 0.0),\n",
       " (2661, 'USC00519397', '2017-06-18', 0.05),\n",
       " (2660, 'USC00519397', '2017-06-17', 0.0),\n",
       " (2659, 'USC00519397', '2017-06-16', 0.0),\n",
       " (2658, 'USC00519397', '2017-06-15', 0.0),\n",
       " (2657, 'USC00519397', '2017-06-14', 0.0),\n",
       " (2656, 'USC00519397', '2017-06-13', 0.0),\n",
       " (2655, 'USC00519397', '2017-06-12', 0.02),\n",
       " (2654, 'USC00519397', '2017-06-11', 0.08),\n",
       " (2653, 'USC00519397', '2017-06-10', 0.04),\n",
       " (2652, 'USC00519397', '2017-06-09', 0.0),\n",
       " (2651, 'USC00519397', '2017-06-08', 0.0),\n",
       " (2650, 'USC00519397', '2017-06-07', 0.0),\n",
       " (2649, 'USC00519397', '2017-06-06', 0.0),\n",
       " (2648, 'USC00519397', '2017-06-05', 0.0),\n",
       " (2647, 'USC00519397', '2017-06-04', 0.0),\n",
       " (2646, 'USC00519397', '2017-06-03', 0.02),\n",
       " (2645, 'USC00519397', '2017-06-02', 0.0),\n",
       " (2644, 'USC00519397', '2017-06-01', 0.0),\n",
       " (2643, 'USC00519397', '2017-05-31', 0.02),\n",
       " (2642, 'USC00519397', '2017-05-30', 0.26),\n",
       " (2641, 'USC00519397', '2017-05-29', 0.0),\n",
       " (2640, 'USC00519397', '2017-05-28', 0.02),\n",
       " (2639, 'USC00519397', '2017-05-27', 0.01),\n",
       " (5367, 'USC00513117', '2017-05-26', 0.02),\n",
       " (2638, 'USC00519397', '2017-05-25', 0.15),\n",
       " (2637, 'USC00519397', '2017-05-24', 0.13),\n",
       " (2636, 'USC00519397', '2017-05-23', 0.08),\n",
       " (2635, 'USC00519397', '2017-05-22', 0.0),\n",
       " (2634, 'USC00519397', '2017-05-21', 0.0),\n",
       " (2633, 'USC00519397', '2017-05-20', 0.0),\n",
       " (2632, 'USC00519397', '2017-05-19', 0.0),\n",
       " (2631, 'USC00519397', '2017-05-18', 0.01),\n",
       " (2630, 'USC00519397', '2017-05-17', 0.0),\n",
       " (2629, 'USC00519397', '2017-05-16', 0.01),\n",
       " (2628, 'USC00519397', '2017-05-15', 0.05),\n",
       " (2627, 'USC00519397', '2017-05-14', 0.0),\n",
       " (2626, 'USC00519397', '2017-05-13', 0.0),\n",
       " (2625, 'USC00519397', '2017-05-12', 0.0),\n",
       " (2624, 'USC00519397', '2017-05-11', 0.01),\n",
       " (2623, 'USC00519397', '2017-05-10', 0.0),\n",
       " (5350, 'USC00513117', '2017-05-09', 1.62),\n",
       " (2622, 'USC00519397', '2017-05-08', 0.0),\n",
       " (2621, 'USC00519397', '2017-05-07', 0.0),\n",
       " (2620, 'USC00519397', '2017-05-06', 0.0),\n",
       " (2619, 'USC00519397', '2017-05-05', 0.0),\n",
       " (2618, 'USC00519397', '2017-05-04', 0.0),\n",
       " (2617, 'USC00519397', '2017-05-03', 0.0),\n",
       " (2616, 'USC00519397', '2017-05-02', 0.0),\n",
       " (2615, 'USC00519397', '2017-05-01', 0.26),\n",
       " (2614, 'USC00519397', '2017-04-30', 0.89),\n",
       " (2613, 'USC00519397', '2017-04-29', 0.12),\n",
       " (2612, 'USC00519397', '2017-04-28', 0.0),\n",
       " (2611, 'USC00519397', '2017-04-27', 0.0),\n",
       " (2610, 'USC00519397', '2017-04-26', 0.0),\n",
       " (2609, 'USC00519397', '2017-04-25', 0.0),\n",
       " (2608, 'USC00519397', '2017-04-24', 0.0),\n",
       " (2607, 'USC00519397', '2017-04-23', 0.03),\n",
       " (2606, 'USC00519397', '2017-04-22', 0.32),\n",
       " (2605, 'USC00519397', '2017-04-21', 0.23),\n",
       " (2604, 'USC00519397', '2017-04-20', 0.05),\n",
       " (2603, 'USC00519397', '2017-04-19', 0.02),\n",
       " (2602, 'USC00519397', '2017-04-18', 0.0),\n",
       " (2601, 'USC00519397', '2017-04-17', 0.02),\n",
       " (2600, 'USC00519397', '2017-04-16', 0.0),\n",
       " (2599, 'USC00519397', '2017-04-15', 0.01),\n",
       " (2598, 'USC00519397', '2017-04-14', 0.26),\n",
       " (2597, 'USC00519397', '2017-04-13', 0.0),\n",
       " (2596, 'USC00519397', '2017-04-12', 0.0),\n",
       " (2595, 'USC00519397', '2017-04-11', 0.0),\n",
       " (2594, 'USC00519397', '2017-04-10', 0.0),\n",
       " (2593, 'USC00519397', '2017-04-09', 0.0),\n",
       " (2592, 'USC00519397', '2017-04-08', 0.0),\n",
       " (2591, 'USC00519397', '2017-04-07', 0.0),\n",
       " (2590, 'USC00519397', '2017-04-06', 0.0),\n",
       " (2589, 'USC00519397', '2017-04-05', 0.0),\n",
       " (2588, 'USC00519397', '2017-04-04', 0.0),\n",
       " (2587, 'USC00519397', '2017-04-03', 0.0),\n",
       " (2586, 'USC00519397', '2017-04-02', 0.0),\n",
       " (2585, 'USC00519397', '2017-04-01', 0.0),\n",
       " (2584, 'USC00519397', '2017-03-31', 0.0),\n",
       " (2583, 'USC00519397', '2017-03-30', 0.0),\n",
       " (2582, 'USC00519397', '2017-03-29', 0.0),\n",
       " (2581, 'USC00519397', '2017-03-28', 0.0),\n",
       " (2580, 'USC00519397', '2017-03-27', 0.0),\n",
       " (2579, 'USC00519397', '2017-03-26', 0.0),\n",
       " (2578, 'USC00519397', '2017-03-25', 0.0),\n",
       " (2577, 'USC00519397', '2017-03-24', 0.02),\n",
       " (2576, 'USC00519397', '2017-03-23', 0.0),\n",
       " (2575, 'USC00519397', '2017-03-22', 0.0),\n",
       " (2574, 'USC00519397', '2017-03-21', 0.0),\n",
       " (2573, 'USC00519397', '2017-03-20', 0.0),\n",
       " (2572, 'USC00519397', '2017-03-19', 0.0),\n",
       " (2571, 'USC00519397', '2017-03-18', 0.0),\n",
       " (2570, 'USC00519397', '2017-03-17', 0.0),\n",
       " (2569, 'USC00519397', '2017-03-16', 0.0),\n",
       " (2568, 'USC00519397', '2017-03-15', 0.0),\n",
       " (2567, 'USC00519397', '2017-03-14', 0.0),\n",
       " (2566, 'USC00519397', '2017-03-13', 0.0),\n",
       " (2565, 'USC00519397', '2017-03-12', 0.0),\n",
       " (2564, 'USC00519397', '2017-03-11', 0.0),\n",
       " (2563, 'USC00519397', '2017-03-10', 0.0),\n",
       " (2562, 'USC00519397', '2017-03-09', 0.0),\n",
       " (2561, 'USC00519397', '2017-03-08', 0.0),\n",
       " (2560, 'USC00519397', '2017-03-07', 0.0),\n",
       " (2559, 'USC00519397', '2017-03-06', 0.0),\n",
       " (2558, 'USC00519397', '2017-03-05', 0.35),\n",
       " (2557, 'USC00519397', '2017-03-04', 0.0),\n",
       " (2556, 'USC00519397', '2017-03-03', 0.47),\n",
       " (2555, 'USC00519397', '2017-03-02', 0.73),\n",
       " (2554, 'USC00519397', '2017-03-01', 1.19),\n",
       " (2553, 'USC00519397', '2017-02-28', 0.0),\n",
       " (2552, 'USC00519397', '2017-02-27', 0.0),\n",
       " (2551, 'USC00519397', '2017-02-26', 0.0),\n",
       " (2550, 'USC00519397', '2017-02-25', 0.03),\n",
       " (2549, 'USC00519397', '2017-02-24', 0.0),\n",
       " (2548, 'USC00519397', '2017-02-23', 0.01),\n",
       " (2547, 'USC00519397', '2017-02-22', 0.06),\n",
       " (2546, 'USC00519397', '2017-02-21', 0.06),\n",
       " (2545, 'USC00519397', '2017-02-20', 0.0),\n",
       " (2544, 'USC00519397', '2017-02-19', 0.0),\n",
       " (2543, 'USC00519397', '2017-02-18', 0.0),\n",
       " (2542, 'USC00519397', '2017-02-17', 0.0),\n",
       " (2541, 'USC00519397', '2017-02-16', 0.07),\n",
       " (2540, 'USC00519397', '2017-02-15', 0.0),\n",
       " (2539, 'USC00519397', '2017-02-14', 0.0),\n",
       " (2538, 'USC00519397', '2017-02-13', 0.01),\n",
       " (2537, 'USC00519397', '2017-02-12', 2.62),\n",
       " (2536, 'USC00519397', '2017-02-11', 0.31),\n",
       " (2535, 'USC00519397', '2017-02-10', 0.0),\n",
       " (2534, 'USC00519397', '2017-02-09', 0.0),\n",
       " (2533, 'USC00519397', '2017-02-08', 0.0),\n",
       " (2532, 'USC00519397', '2017-02-07', 0.51),\n",
       " (2531, 'USC00519397', '2017-02-06', 0.0),\n",
       " (2530, 'USC00519397', '2017-02-05', 0.0),\n",
       " (2529, 'USC00519397', '2017-02-04', 0.0),\n",
       " (2528, 'USC00519397', '2017-02-03', 0.0),\n",
       " (2527, 'USC00519397', '2017-02-02', 0.0),\n",
       " (2526, 'USC00519397', '2017-02-01', 0.0),\n",
       " (2525, 'USC00519397', '2017-01-31', 0.0),\n",
       " (2524, 'USC00519397', '2017-01-30', 0.0),\n",
       " (2523, 'USC00519397', '2017-01-29', 0.18),\n",
       " (2522, 'USC00519397', '2017-01-28', 0.0),\n",
       " (2521, 'USC00519397', '2017-01-27', 0.0),\n",
       " (2520, 'USC00519397', '2017-01-26', 0.0),\n",
       " (2519, 'USC00519397', '2017-01-25', 0.03),\n",
       " (2518, 'USC00519397', '2017-01-24', 0.04),\n",
       " (2517, 'USC00519397', '2017-01-23', 0.0),\n",
       " (2516, 'USC00519397', '2017-01-22', 0.16),\n",
       " (2515, 'USC00519397', '2017-01-21', 0.0),\n",
       " (2514, 'USC00519397', '2017-01-20', 0.0),\n",
       " (2513, 'USC00519397', '2017-01-19', 0.0),\n",
       " (2512, 'USC00519397', '2017-01-18', 0.0),\n",
       " (2511, 'USC00519397', '2017-01-17', 0.0),\n",
       " (2510, 'USC00519397', '2017-01-16', 0.0),\n",
       " (2509, 'USC00519397', '2017-01-15', 0.0),\n",
       " (2508, 'USC00519397', '2017-01-14', 0.0),\n",
       " (2507, 'USC00519397', '2017-01-13', 0.0),\n",
       " (2506, 'USC00519397', '2017-01-12', 0.0),\n",
       " (2505, 'USC00519397', '2017-01-11', 0.0),\n",
       " (2504, 'USC00519397', '2017-01-10', 0.0),\n",
       " (2503, 'USC00519397', '2017-01-09', 0.0),\n",
       " (2502, 'USC00519397', '2017-01-08', 0.0),\n",
       " (2501, 'USC00519397', '2017-01-07', 0.0),\n",
       " (2500, 'USC00519397', '2017-01-06', 0.0),\n",
       " (2499, 'USC00519397', '2017-01-05', 0.0),\n",
       " (2498, 'USC00519397', '2017-01-04', 0.0),\n",
       " (2497, 'USC00519397', '2017-01-03', 0.0),\n",
       " (2496, 'USC00519397', '2017-01-02', 0.0),\n",
       " (2495, 'USC00519397', '2017-01-01', 0.0),\n",
       " (2494, 'USC00519397', '2016-12-31', 0.01),\n",
       " (2493, 'USC00519397', '2016-12-30', 0.12),\n",
       " (2492, 'USC00519397', '2016-12-29', 0.04),\n",
       " (2491, 'USC00519397', '2016-12-28', 0.02),\n",
       " (2490, 'USC00519397', '2016-12-27', 0.0),\n",
       " (2489, 'USC00519397', '2016-12-26', 0.02),\n",
       " (2488, 'USC00519397', '2016-12-25', 0.0),\n",
       " (2487, 'USC00519397', '2016-12-24', 0.01),\n",
       " (2486, 'USC00519397', '2016-12-23', 0.01),\n",
       " (2485, 'USC00519397', '2016-12-22', 0.01),\n",
       " (2484, 'USC00519397', '2016-12-21', 0.0),\n",
       " (2483, 'USC00519397', '2016-12-20', 0.0),\n",
       " (2482, 'USC00519397', '2016-12-19', 0.01),\n",
       " (2481, 'USC00519397', '2016-12-18', 0.13),\n",
       " (2480, 'USC00519397', '2016-12-17', 0.01),\n",
       " (2479, 'USC00519397', '2016-12-16', 0.0),\n",
       " (2478, 'USC00519397', '2016-12-15', 0.0),\n",
       " (2477, 'USC00519397', '2016-12-14', 0.03),\n",
       " (2476, 'USC00519397', '2016-12-13', 0.05),\n",
       " (2475, 'USC00519397', '2016-12-12', 0.01),\n",
       " (2474, 'USC00519397', '2016-12-11', 0.04),\n",
       " (2473, 'USC00519397', '2016-12-10', 0.05),\n",
       " (2472, 'USC00519397', '2016-12-09', 0.52),\n",
       " (2471, 'USC00519397', '2016-12-08', 0.03),\n",
       " (2470, 'USC00519397', '2016-12-07', 0.0),\n",
       " (2469, 'USC00519397', '2016-12-06', 0.02),\n",
       " (2468, 'USC00519397', '2016-12-05', 0.43),\n",
       " (2467, 'USC00519397', '2016-12-04', 0.03),\n",
       " (2466, 'USC00519397', '2016-12-03', 0.0),\n",
       " (2465, 'USC00519397', '2016-12-02', 0.03),\n",
       " (2464, 'USC00519397', '2016-12-01', 0.12),\n",
       " (2463, 'USC00519397', '2016-11-30', 0.14),\n",
       " (2462, 'USC00519397', '2016-11-29', 0.0),\n",
       " (2461, 'USC00519397', '2016-11-28', 0.01),\n",
       " (2460, 'USC00519397', '2016-11-27', 0.0),\n",
       " (2459, 'USC00519397', '2016-11-26', 0.05),\n",
       " (2458, 'USC00519397', '2016-11-25', 0.05),\n",
       " (2457, 'USC00519397', '2016-11-24', 0.05),\n",
       " (2456, 'USC00519397', '2016-11-23', 0.14),\n",
       " (2455, 'USC00519397', '2016-11-22', 0.13),\n",
       " (2454, 'USC00519397', '2016-11-21', 0.01),\n",
       " (2453, 'USC00519397', '2016-11-20', 0.05),\n",
       " (2452, 'USC00519397', '2016-11-19', 0.03),\n",
       " (2451, 'USC00519397', '2016-11-18', 0.0),\n",
       " (2450, 'USC00519397', '2016-11-17', 0.0),\n",
       " (2449, 'USC00519397', '2016-11-16', 0.0),\n",
       " (2448, 'USC00519397', '2016-11-15', 0.0),\n",
       " (2447, 'USC00519397', '2016-11-14', 0.0),\n",
       " (2446, 'USC00519397', '2016-11-13', 0.0),\n",
       " (2445, 'USC00519397', '2016-11-12', 0.0),\n",
       " (2444, 'USC00519397', '2016-11-11', 0.0),\n",
       " (2443, 'USC00519397', '2016-11-10', 0.0),\n",
       " (2442, 'USC00519397', '2016-11-09', 0.0),\n",
       " (2441, 'USC00519397', '2016-11-08', 0.07),\n",
       " (2440, 'USC00519397', '2016-11-07', 0.0),\n",
       " (2439, 'USC00519397', '2016-11-06', 0.0),\n",
       " (2438, 'USC00519397', '2016-11-05', 0.0),\n",
       " (2437, 'USC00519397', '2016-11-04', 0.0),\n",
       " (2436, 'USC00519397', '2016-11-03', 0.0),\n",
       " (2435, 'USC00519397', '2016-11-02', 0.0),\n",
       " (2434, 'USC00519397', '2016-11-01', 0.0),\n",
       " (2433, 'USC00519397', '2016-10-31', 0.03),\n",
       " (2432, 'USC00519397', '2016-10-30', 0.24),\n",
       " (2431, 'USC00519397', '2016-10-29', 0.0),\n",
       " (2430, 'USC00519397', '2016-10-28', 0.0),\n",
       " (2429, 'USC00519397', '2016-10-27', 0.0),\n",
       " (2428, 'USC00519397', '2016-10-26', 0.0),\n",
       " (2427, 'USC00519397', '2016-10-25', 0.03),\n",
       " (2426, 'USC00519397', '2016-10-24', 0.0),\n",
       " (2425, 'USC00519397', '2016-10-23', 0.01),\n",
       " (2424, 'USC00519397', '2016-10-22', 0.15),\n",
       " (2423, 'USC00519397', '2016-10-21', 0.05),\n",
       " (2422, 'USC00519397', '2016-10-20', 0.0),\n",
       " (2421, 'USC00519397', '2016-10-19', 0.0),\n",
       " (2420, 'USC00519397', '2016-10-18', 0.0),\n",
       " (2419, 'USC00519397', '2016-10-17', 0.01),\n",
       " (2418, 'USC00519397', '2016-10-16', 0.0),\n",
       " (2417, 'USC00519397', '2016-10-15', 0.0),\n",
       " (2416, 'USC00519397', '2016-10-14', 0.0),\n",
       " (2415, 'USC00519397', '2016-10-13', 0.0),\n",
       " (2414, 'USC00519397', '2016-10-12', 0.0),\n",
       " (2413, 'USC00519397', '2016-10-11', 0.0),\n",
       " (2412, 'USC00519397', '2016-10-10', 0.0),\n",
       " (2411, 'USC00519397', '2016-10-09', 0.0),\n",
       " (2410, 'USC00519397', '2016-10-08', 0.0),\n",
       " (2409, 'USC00519397', '2016-10-07', 0.0),\n",
       " (2408, 'USC00519397', '2016-10-06', 0.0),\n",
       " (2407, 'USC00519397', '2016-10-05', 0.0),\n",
       " (2406, 'USC00519397', '2016-10-04', 0.0),\n",
       " (2405, 'USC00519397', '2016-10-03', 0.0),\n",
       " (2404, 'USC00519397', '2016-10-02', 0.0),\n",
       " (2403, 'USC00519397', '2016-10-01', 0.0),\n",
       " (2402, 'USC00519397', '2016-09-30', 0.0),\n",
       " (2401, 'USC00519397', '2016-09-29', 0.0),\n",
       " (2400, 'USC00519397', '2016-09-28', 0.0),\n",
       " (2399, 'USC00519397', '2016-09-27', 0.02),\n",
       " (2398, 'USC00519397', '2016-09-26', 0.06),\n",
       " (2397, 'USC00519397', '2016-09-25', 0.0),\n",
       " (2396, 'USC00519397', '2016-09-24', 0.0),\n",
       " (2395, 'USC00519397', '2016-09-23', 0.0),\n",
       " (2394, 'USC00519397', '2016-09-22', 0.02),\n",
       " (2393, 'USC00519397', '2016-09-21', 0.0),\n",
       " (2392, 'USC00519397', '2016-09-20', 0.0),\n",
       " (2391, 'USC00519397', '2016-09-19', 0.0),\n",
       " (2390, 'USC00519397', '2016-09-18', 0.0),\n",
       " (2389, 'USC00519397', '2016-09-17', 0.05),\n",
       " (2388, 'USC00519397', '2016-09-16', 0.06),\n",
       " (2387, 'USC00519397', '2016-09-15', 0.42),\n",
       " (2386, 'USC00519397', '2016-09-14', 1.32),\n",
       " (2385, 'USC00519397', '2016-09-13', 0.02),\n",
       " (2384, 'USC00519397', '2016-09-12', 0.0),\n",
       " (2383, 'USC00519397', '2016-09-11', 0.05),\n",
       " (2382, 'USC00519397', '2016-09-10', 0.0),\n",
       " (2381, 'USC00519397', '2016-09-09', 0.03),\n",
       " (2380, 'USC00519397', '2016-09-08', 0.0),\n",
       " (2379, 'USC00519397', '2016-09-07', 0.05),\n",
       " (2378, 'USC00519397', '2016-09-06', None),\n",
       " (2377, 'USC00519397', '2016-09-05', None),\n",
       " (2376, 'USC00519397', '2016-09-04', 0.03),\n",
       " (2375, 'USC00519397', '2016-09-03', 0.0),\n",
       " (2374, 'USC00519397', '2016-09-02', 0.0),\n",
       " (2373, 'USC00519397', '2016-09-01', 0.0),\n",
       " (2372, 'USC00519397', '2016-08-31', 0.13),\n",
       " (2371, 'USC00519397', '2016-08-30', 0.0),\n",
       " (2370, 'USC00519397', '2016-08-29', 0.0),\n",
       " (2369, 'USC00519397', '2016-08-28', 0.01),\n",
       " (2368, 'USC00519397', '2016-08-27', 0.0),\n",
       " (2367, 'USC00519397', '2016-08-26', 0.0),\n",
       " (2366, 'USC00519397', '2016-08-25', 0.08),\n",
       " (2365, 'USC00519397', '2016-08-24', 0.08),\n",
       " (2364, 'USC00519397', '2016-08-23', 0.0)]"
      ]
     },
     "execution_count": 14,
     "metadata": {},
     "output_type": "execute_result"
    }
   ],
   "source": [
    "Months12=session.query(Mmt.id,Mmt.station,Mmt.date,Mmt.prcp,Mmt.tobs).\\\n",
    "    filter(Mmt.date>\"2016-08-22\").\\\n",
    "    order_by(Mmt.date.desc()).all()\n",
    "\n",
    "Months12_prcp=session.query(Mmt.id,Mmt.station,Mmt.date,Mmt.prcp).\\\n",
    "    filter(Mmt.date>\"2016-08-22\").\\\n",
    "    order_by(Mmt.date.desc()).group_by(Mmt.date).all()\n",
    "\n",
    "Months12_prcp"
   ]
  },
  {
   "cell_type": "code",
   "execution_count": 15,
   "metadata": {},
   "outputs": [
    {
     "data": {
      "text/html": [
       "<div>\n",
       "<style scoped>\n",
       "    .dataframe tbody tr th:only-of-type {\n",
       "        vertical-align: middle;\n",
       "    }\n",
       "\n",
       "    .dataframe tbody tr th {\n",
       "        vertical-align: top;\n",
       "    }\n",
       "\n",
       "    .dataframe thead th {\n",
       "        text-align: right;\n",
       "    }\n",
       "</style>\n",
       "<table border=\"1\" class=\"dataframe\">\n",
       "  <thead>\n",
       "    <tr style=\"text-align: right;\">\n",
       "      <th></th>\n",
       "      <th>date</th>\n",
       "      <th>prcp</th>\n",
       "    </tr>\n",
       "  </thead>\n",
       "  <tbody>\n",
       "    <tr>\n",
       "      <th>0</th>\n",
       "      <td>2017-08-23</td>\n",
       "      <td>0.00</td>\n",
       "    </tr>\n",
       "    <tr>\n",
       "      <th>1</th>\n",
       "      <td>2017-08-23</td>\n",
       "      <td>0.00</td>\n",
       "    </tr>\n",
       "    <tr>\n",
       "      <th>2</th>\n",
       "      <td>2017-08-23</td>\n",
       "      <td>0.08</td>\n",
       "    </tr>\n",
       "    <tr>\n",
       "      <th>3</th>\n",
       "      <td>2017-08-23</td>\n",
       "      <td>0.45</td>\n",
       "    </tr>\n",
       "    <tr>\n",
       "      <th>4</th>\n",
       "      <td>2017-08-22</td>\n",
       "      <td>0.00</td>\n",
       "    </tr>\n",
       "    <tr>\n",
       "      <th>5</th>\n",
       "      <td>2017-08-22</td>\n",
       "      <td>0.00</td>\n",
       "    </tr>\n",
       "    <tr>\n",
       "      <th>6</th>\n",
       "      <td>2017-08-22</td>\n",
       "      <td>0.50</td>\n",
       "    </tr>\n",
       "    <tr>\n",
       "      <th>7</th>\n",
       "      <td>2017-08-21</td>\n",
       "      <td>0.00</td>\n",
       "    </tr>\n",
       "    <tr>\n",
       "      <th>8</th>\n",
       "      <td>2017-08-21</td>\n",
       "      <td>0.02</td>\n",
       "    </tr>\n",
       "    <tr>\n",
       "      <th>9</th>\n",
       "      <td>2017-08-21</td>\n",
       "      <td>NaN</td>\n",
       "    </tr>\n",
       "  </tbody>\n",
       "</table>\n",
       "</div>"
      ],
      "text/plain": [
       "         date  prcp\n",
       "0  2017-08-23  0.00\n",
       "1  2017-08-23  0.00\n",
       "2  2017-08-23  0.08\n",
       "3  2017-08-23  0.45\n",
       "4  2017-08-22  0.00\n",
       "5  2017-08-22  0.00\n",
       "6  2017-08-22  0.50\n",
       "7  2017-08-21  0.00\n",
       "8  2017-08-21  0.02\n",
       "9  2017-08-21   NaN"
      ]
     },
     "execution_count": 15,
     "metadata": {},
     "output_type": "execute_result"
    }
   ],
   "source": [
    "df_12m = pd.DataFrame(Months12,columns=[\"id\",\"station\",\"date\",\"prcp\",\"tobs\"])#.dropna()\n",
    "prcp_12m=df_12m.loc[:,[\"date\",\"prcp\"]]\n",
    "prcp_12m.head(10)\n",
    "#sum_prcp_12m=prcp_12m.groupby([\"date\"]).sum()\n",
    "#sum_prcp_12m.head()"
   ]
  },
  {
   "cell_type": "code",
   "execution_count": 16,
   "metadata": {},
   "outputs": [
    {
     "data": {
      "image/png": "[encoded data removed]",
      "text/plain": [
       "<Figure size 432x288 with 1 Axes>"
      ]
     },
     "metadata": {
      "needs_background": "light"
     },
     "output_type": "display_data"
    }
   ],
   "source": [
    "plt.plot(prcp_12m.prcp,label=\"Precipitation\")\n",
    "plt.xticks([],[])\n",
    "plt.xlabel(\"Date\")\n",
    "plt.ylabel(\"Total Precipitation\")\n",
    "plt.legend(loc=\"best\",prop={'size': 10})\n",
    "plt.title(\"Hawaii 12m Precipitation\")\n",
    "plt.gca().invert_xaxis()\n",
    "plt.savefig(\"Hawaii_12m_Precipitation.jpg\")\n",
    "plt.show()"
   ]
  },
  {
   "cell_type": "code",
   "execution_count": 17,
   "metadata": {},
   "outputs": [
    {
     "data": {
      "text/html": [
       "<div>\n",
       "<style scoped>\n",
       "    .dataframe tbody tr th:only-of-type {\n",
       "        vertical-align: middle;\n",
       "    }\n",
       "\n",
       "    .dataframe tbody tr th {\n",
       "        vertical-align: top;\n",
       "    }\n",
       "\n",
       "    .dataframe thead th {\n",
       "        text-align: right;\n",
       "    }\n",
       "</style>\n",
       "<table border=\"1\" class=\"dataframe\">\n",
       "  <thead>\n",
       "    <tr style=\"text-align: right;\">\n",
       "      <th></th>\n",
       "      <th>prcp</th>\n",
       "    </tr>\n",
       "  </thead>\n",
       "  <tbody>\n",
       "    <tr>\n",
       "      <th>count</th>\n",
       "      <td>2021.000000</td>\n",
       "    </tr>\n",
       "    <tr>\n",
       "      <th>mean</th>\n",
       "      <td>0.177279</td>\n",
       "    </tr>\n",
       "    <tr>\n",
       "      <th>std</th>\n",
       "      <td>0.461190</td>\n",
       "    </tr>\n",
       "    <tr>\n",
       "      <th>min</th>\n",
       "      <td>0.000000</td>\n",
       "    </tr>\n",
       "    <tr>\n",
       "      <th>25%</th>\n",
       "      <td>0.000000</td>\n",
       "    </tr>\n",
       "    <tr>\n",
       "      <th>50%</th>\n",
       "      <td>0.020000</td>\n",
       "    </tr>\n",
       "    <tr>\n",
       "      <th>75%</th>\n",
       "      <td>0.130000</td>\n",
       "    </tr>\n",
       "    <tr>\n",
       "      <th>max</th>\n",
       "      <td>6.700000</td>\n",
       "    </tr>\n",
       "  </tbody>\n",
       "</table>\n",
       "</div>"
      ],
      "text/plain": [
       "              prcp\n",
       "count  2021.000000\n",
       "mean      0.177279\n",
       "std       0.461190\n",
       "min       0.000000\n",
       "25%       0.000000\n",
       "50%       0.020000\n",
       "75%       0.130000\n",
       "max       6.700000"
      ]
     },
     "execution_count": 17,
     "metadata": {},
     "output_type": "execute_result"
    }
   ],
   "source": [
    "#General Statistics\n",
    "stats=prcp_12m.describe()\n",
    "stats"
   ]
  },
  {
   "cell_type": "code",
   "execution_count": 18,
   "metadata": {},
   "outputs": [
    {
     "data": {
      "text/plain": [
       "[(9)]"
      ]
     },
     "execution_count": 18,
     "metadata": {},
     "output_type": "execute_result"
    }
   ],
   "source": [
    "#Total Stations\n",
    "session.query(func.count(Stn.id)).all()"
   ]
  },
  {
   "cell_type": "code",
   "execution_count": 19,
   "metadata": {},
   "outputs": [
    {
     "data": {
      "text/plain": [
       "[('USC00519281', 2772),\n",
       " ('USC00519397', 2724),\n",
       " ('USC00513117', 2709),\n",
       " ('USC00519523', 2669),\n",
       " ('USC00516128', 2612),\n",
       " ('USC00514830', 2202),\n",
       " ('USC00511918', 1979),\n",
       " ('USC00517948', 1372),\n",
       " ('USC00518838', 511)]"
      ]
     },
     "execution_count": 19,
     "metadata": {},
     "output_type": "execute_result"
    }
   ],
   "source": [
    "#Activity of each station\n",
    "act=[Mmt.station,\n",
    "     func.count(Mmt.date)]\n",
    "total_activity=session.query(*act).\\\n",
    "    group_by(Mmt.station).\\\n",
    "    order_by(func.count(Mmt.date).desc()).all()\n",
    "total_activity"
   ]
  },
  {
   "cell_type": "code",
   "execution_count": 20,
   "metadata": {},
   "outputs": [
    {
     "data": {
      "text/plain": [
       "'USC00519281'"
      ]
     },
     "execution_count": 20,
     "metadata": {},
     "output_type": "execute_result"
    }
   ],
   "source": [
    "most_active=total_activity[0][0]\n",
    "most_active"
   ]
  },
  {
   "cell_type": "code",
   "execution_count": 21,
   "metadata": {},
   "outputs": [
    {
     "data": {
      "text/plain": [
       "[('USC00519281', 54.0, 85.0, 71.66378066378067)]"
      ]
     },
     "execution_count": 21,
     "metadata": {},
     "output_type": "execute_result"
    }
   ],
   "source": [
    "stats_stations=[Mmt.station,func.min(Mmt.tobs),\n",
    "           func.max(Mmt.tobs),\n",
    "           func.avg(Mmt.tobs)]\n",
    "stats_ma_active=session.query(*stats_stations).\\\n",
    "    filter(Mmt.station==most_active).all()\n",
    "\n",
    "stats_ma_active"
   ]
  },
  {
   "cell_type": "code",
   "execution_count": 22,
   "metadata": {},
   "outputs": [
    {
     "data": {
      "text/html": [
       "<div>\n",
       "<style scoped>\n",
       "    .dataframe tbody tr th:only-of-type {\n",
       "        vertical-align: middle;\n",
       "    }\n",
       "\n",
       "    .dataframe tbody tr th {\n",
       "        vertical-align: top;\n",
       "    }\n",
       "\n",
       "    .dataframe thead th {\n",
       "        text-align: right;\n",
       "    }\n",
       "</style>\n",
       "<table border=\"1\" class=\"dataframe\">\n",
       "  <thead>\n",
       "    <tr style=\"text-align: right;\">\n",
       "      <th></th>\n",
       "      <th>station</th>\n",
       "      <th>tobs</th>\n",
       "    </tr>\n",
       "  </thead>\n",
       "  <tbody>\n",
       "    <tr>\n",
       "      <th>0</th>\n",
       "      <td>USC00519281</td>\n",
       "      <td>79.0</td>\n",
       "    </tr>\n",
       "    <tr>\n",
       "      <th>1</th>\n",
       "      <td>USC00519281</td>\n",
       "      <td>76.0</td>\n",
       "    </tr>\n",
       "    <tr>\n",
       "      <th>2</th>\n",
       "      <td>USC00519281</td>\n",
       "      <td>76.0</td>\n",
       "    </tr>\n",
       "    <tr>\n",
       "      <th>3</th>\n",
       "      <td>USC00519281</td>\n",
       "      <td>77.0</td>\n",
       "    </tr>\n",
       "    <tr>\n",
       "      <th>4</th>\n",
       "      <td>USC00519281</td>\n",
       "      <td>77.0</td>\n",
       "    </tr>\n",
       "  </tbody>\n",
       "</table>\n",
       "</div>"
      ],
      "text/plain": [
       "       station  tobs\n",
       "0  USC00519281  79.0\n",
       "1  USC00519281  76.0\n",
       "2  USC00519281  76.0\n",
       "3  USC00519281  77.0\n",
       "4  USC00519281  77.0"
      ]
     },
     "execution_count": 22,
     "metadata": {},
     "output_type": "execute_result"
    }
   ],
   "source": [
    "Most_active_info=session.query(Mmt.id,Mmt.station,Mmt.date,Mmt.prcp,Mmt.tobs).\\\n",
    "    filter(Mmt.station==most_active).\\\n",
    "    filter(Mmt.date>\"2016-08-22\").\\\n",
    "    order_by(Mmt.date.desc()).all()\n",
    "\n",
    "df_ma = pd.DataFrame(Most_active_info,columns=[\"id\",\"station\",\"date\",\"prcp\",\"tobs\"])#.dropna()\n",
    "tobs_ma=df_ma.loc[:,[\"station\",\"tobs\"]]\n",
    "tobs_ma.head()"
   ]
  },
  {
   "cell_type": "code",
   "execution_count": 23,
   "metadata": {},
   "outputs": [
    {
     "data": {
      "image/png": "[encoded data removed]",
      "text/plain": [
       "<Figure size 432x288 with 1 Axes>"
      ]
     },
     "metadata": {
      "needs_background": "light"
     },
     "output_type": "display_data"
    }
   ],
   "source": [
    "plt.hist(tobs_ma.tobs,bins=12,label=\"Temp Observation\")\n",
    "plt.title(\"Temperature Observations\")\n",
    "plt.legend()\n",
    "plt.savefig(\"Hawaii_12m_Temperatures_Obs.jpg\")\n",
    "plt.show()"
   ]
  },
  {
   "cell_type": "code",
   "execution_count": null,
   "metadata": {},
   "outputs": [],
   "source": [
    "    "
   ]
  }
 ],
 "metadata": {
  "kernelspec": {
   "display_name": "Python 3",
   "language": "python",
   "name": "python3"
  },
  "language_info": {
   "codemirror_mode": {
    "name": "ipython",
    "version": 3
   },
   "file_extension": ".py",
   "mimetype": "text/x-python",
   "name": "python",
   "nbconvert_exporter": "python",
   "pygments_lexer": "ipython3",
   "version": "3.7.3"
  }
 },
 "nbformat": 4,
 "nbformat_minor": 2
}
